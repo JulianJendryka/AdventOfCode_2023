{
 "cells": [
  {
   "cell_type": "code",
   "execution_count": 8,
   "metadata": {},
   "outputs": [],
   "source": [
    "import numpy as np\n"
   ]
  },
  {
   "cell_type": "code",
   "execution_count": null,
   "id": "5de9817b",
   "metadata": {},
   "outputs": [],
   "source": []
  },
  {
   "cell_type": "code",
   "execution_count": 9,
   "id": "e5b055b0",
   "metadata": {},
   "outputs": [
    {
     "data": {
      "text/plain": [
       "['Time:        35     69     68     87',\n",
       " 'Distance:   213   1168   1086   1248']"
      ]
     },
     "execution_count": 9,
     "metadata": {},
     "output_type": "execute_result"
    }
   ],
   "source": [
    "\n",
    "# data = open(\"..\\\\Data\\\\test_input_1.txt\").read().split(\"\\n\")\n",
    "data = open(\"..\\\\Data\\\\input_1.txt\").read().split(\"\\n\")\n",
    "data"
   ]
  },
  {
   "cell_type": "code",
   "execution_count": 10,
   "id": "a426f2c5",
   "metadata": {},
   "outputs": [
    {
     "data": {
      "text/plain": [
       "([35, 69, 68, 87], [213, 1168, 1086, 1248])"
      ]
     },
     "execution_count": 10,
     "metadata": {},
     "output_type": "execute_result"
    }
   ],
   "source": [
    "def get_cleanedInput(data, split_phrase = \"Time:\"):\n",
    "    times = data.split(split_phrase)\n",
    "    times = [time.strip(\" \") for time in times[-1].split(\" \")]\n",
    "    times = [int(time) for time in times if time != \"\"]\n",
    "    return times\n",
    "times = get_cleanedInput(data[0], \"Time:\")\n",
    "distances = get_cleanedInput(data[1], \"Distance: \")\n",
    "\n",
    "times, distances"
   ]
  },
  {
   "cell_type": "code",
   "execution_count": 11,
   "metadata": {},
   "outputs": [
    {
     "data": {
      "text/plain": [
       "170000"
      ]
     },
     "execution_count": 11,
     "metadata": {},
     "output_type": "execute_result"
    }
   ],
   "source": [
    "\n",
    "sum = 1\n",
    "\n",
    "for time, record_distance in zip(times, distances):\n",
    "\n",
    "    beating_times = 0\n",
    "    for charge_time in range(time):\n",
    "        remaining_time = time - charge_time\n",
    "\n",
    "        traveled_distance = remaining_time * charge_time\n",
    "        if(traveled_distance > record_distance): beating_times +=1\n",
    "    sum *= beating_times\n",
    "sum"
   ]
  },
  {
   "cell_type": "code",
   "execution_count": null,
   "metadata": {},
   "outputs": [],
   "source": []
  },
  {
   "cell_type": "code",
   "execution_count": 12,
   "metadata": {},
   "outputs": [],
   "source": [
    "#2"
   ]
  },
  {
   "cell_type": "code",
   "execution_count": 13,
   "metadata": {},
   "outputs": [
    {
     "data": {
      "text/plain": [
       "(35696887, 213116810861248)"
      ]
     },
     "execution_count": 13,
     "metadata": {},
     "output_type": "execute_result"
    }
   ],
   "source": [
    "time = ''.join([f\"{t}\" for t in times])\n",
    "record_distance = ''.join([f\"{d}\" for d in distances])\n",
    "\n",
    "time = int(time)\n",
    "record_distance = int(record_distance)\n",
    "time, record_distance"
   ]
  },
  {
   "cell_type": "code",
   "execution_count": null,
   "metadata": {},
   "outputs": [],
   "source": []
  },
  {
   "cell_type": "code",
   "execution_count": 14,
   "metadata": {},
   "outputs": [
    {
     "data": {
      "text/plain": [
       "20537782"
      ]
     },
     "execution_count": 14,
     "metadata": {},
     "output_type": "execute_result"
    }
   ],
   "source": [
    "\n",
    "beating_times = 0\n",
    "for charge_time in range(time):\n",
    "    remaining_time = time - charge_time\n",
    "    traveled_distance = remaining_time * charge_time\n",
    "    if(traveled_distance > record_distance): beating_times +=1\n",
    "beating_times"
   ]
  }
 ],
 "metadata": {
  "kernelspec": {
   "display_name": "Python 3.9.7 ('base')",
   "language": "python",
   "name": "python3"
  },
  "language_info": {
   "codemirror_mode": {
    "name": "ipython",
    "version": 3
   },
   "file_extension": ".py",
   "mimetype": "text/x-python",
   "name": "python",
   "nbconvert_exporter": "python",
   "pygments_lexer": "ipython3",
   "version": "3.10.10"
  },
  "vscode": {
   "interpreter": {
    "hash": "2a8bbf263d27c073e353b5e5303e0a05dabc0622705e641ebabad97e6ca8850b"
   }
  }
 },
 "nbformat": 4,
 "nbformat_minor": 5
}
