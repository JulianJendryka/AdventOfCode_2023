{
 "cells": [
  {
   "cell_type": "code",
   "execution_count": 1,
   "metadata": {},
   "outputs": [],
   "source": [
    "import numpy as np\n"
   ]
  },
  {
   "cell_type": "code",
   "execution_count": null,
   "id": "5de9817b",
   "metadata": {},
   "outputs": [],
   "source": []
  },
  {
   "cell_type": "code",
   "execution_count": 2,
   "id": "e5b055b0",
   "metadata": {},
   "outputs": [],
   "source": [
    "\n",
    "data = open(\"..\\\\Data\\\\test_input_1.txt\").read().split(\"\\n\")\n",
    "data = open(\"..\\\\Data\\\\input_1.txt\").read().split(\"\\n\")"
   ]
  },
  {
   "cell_type": "code",
   "execution_count": 3,
   "id": "9f4827a9",
   "metadata": {},
   "outputs": [],
   "source": [
    "def clean_line(line_part=\"41 48 83 86 17\"):\n",
    "    \n",
    "    line_part = line_part.split(\" \")\n",
    "\n",
    "    cleaned = []\n",
    "    for num in line_part:\n",
    "        if num == \"\": continue\n",
    "        cleaned.append(int(num))\n",
    "    return cleaned"
   ]
  },
  {
   "cell_type": "code",
   "execution_count": 4,
   "id": "cabf8671",
   "metadata": {},
   "outputs": [],
   "source": [
    "\n",
    "def extract_number(line=\"Card 1: 41 48 83 86 17 | 83 86  6 31 17  9 48 53\"):\n",
    "    left , right = line.split(\" | \")\n",
    "    left = left.split(\": \")[-1]\n",
    "\n",
    "    left = clean_line(left)\n",
    "    right = clean_line(right)\n",
    "\n",
    "    number_of_my_winning_nums = 0\n",
    "    for my_number in right:\n",
    "        if my_number in left:\n",
    "            number_of_my_winning_nums += 1\n",
    "\n",
    "    return 0 if number_of_my_winning_nums == 0 else 2**(number_of_my_winning_nums-1)\n"
   ]
  },
  {
   "cell_type": "code",
   "execution_count": 5,
   "id": "a0c458dc",
   "metadata": {},
   "outputs": [
    {
     "data": {
      "text/plain": [
       "25231"
      ]
     },
     "execution_count": 5,
     "metadata": {},
     "output_type": "execute_result"
    }
   ],
   "source": [
    "sum = 0\n",
    "for index, line in enumerate(data):\n",
    "    sum += extract_number(line)\n",
    "sum"
   ]
  },
  {
   "cell_type": "code",
   "execution_count": null,
   "id": "a6cd3b20",
   "metadata": {},
   "outputs": [],
   "source": []
  },
  {
   "cell_type": "code",
   "execution_count": 6,
   "id": "3d9f7c2c",
   "metadata": {},
   "outputs": [],
   "source": [
    "#2"
   ]
  },
  {
   "cell_type": "code",
   "execution_count": null,
   "id": "e92a0a4c",
   "metadata": {},
   "outputs": [],
   "source": []
  },
  {
   "cell_type": "code",
   "execution_count": 7,
   "id": "ad55b974",
   "metadata": {},
   "outputs": [],
   "source": [
    "\n",
    "data = open(\"..\\\\Data\\\\test_input_1.txt\").read().split(\"\\n\")\n",
    "data = open(\"..\\\\Data\\\\input_1.txt\").read().split(\"\\n\")"
   ]
  },
  {
   "cell_type": "code",
   "execution_count": 8,
   "id": "c2c06d9a",
   "metadata": {},
   "outputs": [],
   "source": [
    "number_of_instances = [0 for i in range(len(data))]"
   ]
  },
  {
   "cell_type": "code",
   "execution_count": 9,
   "id": "2a94bf30",
   "metadata": {},
   "outputs": [],
   "source": [
    "\n",
    "def extract_number(data, index=0):\n",
    "    line = data[index]    \n",
    "    number_of_instances[index] += 1\n",
    "\n",
    "    left , right = line.split(\" | \")\n",
    "    left = left.split(\": \")[-1]\n",
    "\n",
    "    left = clean_line(left)\n",
    "    right = clean_line(right)\n",
    "\n",
    "    number_of_my_winning_nums = 0\n",
    "    for my_number in right:\n",
    "        if my_number in left:\n",
    "            number_of_my_winning_nums += 1\n",
    "\n",
    "    for i in range(index + 1, number_of_my_winning_nums + index + 1):\n",
    "        extract_number(data, i)\n",
    "    return \n"
   ]
  },
  {
   "cell_type": "code",
   "execution_count": 10,
   "id": "9cb44c57",
   "metadata": {},
   "outputs": [],
   "source": [
    "for index, line in enumerate(data): \n",
    "    extract_number(data, index)"
   ]
  },
  {
   "cell_type": "code",
   "execution_count": 11,
   "id": "c4d6254c",
   "metadata": {},
   "outputs": [
    {
     "data": {
      "text/plain": [
       "9721255"
      ]
     },
     "execution_count": 11,
     "metadata": {},
     "output_type": "execute_result"
    }
   ],
   "source": [
    "np.sum(number_of_instances)"
   ]
  },
  {
   "cell_type": "code",
   "execution_count": null,
   "id": "a426f2c5",
   "metadata": {},
   "outputs": [],
   "source": []
  }
 ],
 "metadata": {
  "kernelspec": {
   "display_name": "Python 3.9.7 ('base')",
   "language": "python",
   "name": "python3"
  },
  "language_info": {
   "codemirror_mode": {
    "name": "ipython",
    "version": 3
   },
   "file_extension": ".py",
   "mimetype": "text/x-python",
   "name": "python",
   "nbconvert_exporter": "python",
   "pygments_lexer": "ipython3",
   "version": "3.9.7"
  },
  "vscode": {
   "interpreter": {
    "hash": "2a8bbf263d27c073e353b5e5303e0a05dabc0622705e641ebabad97e6ca8850b"
   }
  }
 },
 "nbformat": 4,
 "nbformat_minor": 5
}
