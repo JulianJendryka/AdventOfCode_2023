{
 "cells": [
  {
   "cell_type": "code",
   "execution_count": null,
   "metadata": {},
   "outputs": [],
   "source": [
    "import sys\n",
    "import numpy as np"
   ]
  },
  {
   "cell_type": "code",
   "execution_count": null,
   "id": "5de9817b",
   "metadata": {},
   "outputs": [],
   "source": []
  },
  {
   "cell_type": "code",
   "execution_count": null,
   "id": "e5b055b0",
   "metadata": {},
   "outputs": [],
   "source": [
    "data = open(\"..\\\\Data\\\\test_input_1.txt\").read().split(\"\\n\\n\")\n",
    "data"
   ]
  },
  {
   "cell_type": "code",
   "execution_count": null,
   "id": "a426f2c5",
   "metadata": {},
   "outputs": [],
   "source": [
    "def get_cleanedInput(data):\n",
    "    maps = {    }\n",
    "\n",
    "    seeds = []\n",
    "    for i, line in enumerate(data):\n",
    "        if i == 0:\n",
    "            name, nums = line.split(\": \")\n",
    "            nums = nums.split(\" \")\n",
    "            nums = [int(l) for l in nums]\n",
    "            seeds = nums\n",
    "        else:\n",
    "            name, nums = line.split(\":\\n\")\n",
    "            rows = nums.split(\"\\n\")\n",
    "            rows = [[int(i) for i in row.split(\" \")] for row in rows]\n",
    "            maps[name] = rows\n",
    "    return seeds, maps\n",
    "\n",
    "seeds, maps = get_cleanedInput(data)\n",
    "seeds, maps"
   ]
  },
  {
   "cell_type": "code",
   "execution_count": null,
   "metadata": {},
   "outputs": [],
   "source": [
    "class Source_map_line:\n",
    "    def __init__(self, line=[50, 98, 2]):\n",
    "        self.destination_range_start = line[0]\n",
    "        self.range_length = line[2]\n",
    "        \n",
    "        self.source_range_start = line[1]\n",
    "        self.source_range_end = self.source_range_start + self.range_length\n",
    "\n",
    "    \n",
    "\n",
    "    def solve(self, num=98):\n",
    "        if num < self.source_range_start or num > self.source_range_end:\n",
    "            return False, -1\n",
    "        \n",
    "        mapped_value = num - self.source_range_start + self.destination_range_start\n",
    "        return True, mapped_value"
   ]
  },
  {
   "cell_type": "code",
   "execution_count": null,
   "metadata": {},
   "outputs": [],
   "source": [
    "class Source_map:\n",
    "    def __init__(self, mappings):\n",
    "        self.mappings = []\n",
    "        for line in mappings:\n",
    "            self.mappings.append(Source_map_line(line))\n",
    "\n",
    "    ## dump apporach without Source_map_line\n",
    "    # def decrypt_line(self, line=[50, 98, 2]):\n",
    "    #     destination_range_start = line[0]\n",
    "    #     source_range_start = line[1]\n",
    "    #     range_length = line[2]\n",
    "    #     map = {\n",
    "    #         source: destination\n",
    "    #         for source, destination in zip(\n",
    "    #             range(source_range_start, source_range_start + range_length),\n",
    "    #             range(destination_range_start, destination_range_start + range_length),\n",
    "    #         )\n",
    "    #     }\n",
    "    #   self.mapping.update(map)\n",
    "\n",
    "    def get_mapping(self, val=10):\n",
    "\n",
    "        for mappping in self.mappings:\n",
    "            is_inside, mapped_val = mappping.solve(val)\n",
    "\n",
    "            if(is_inside): return mapped_val\n",
    "\n",
    "        return val\n",
    "\n",
    "mappa = Source_map(maps['seed-to-soil map'])\n",
    "mappa.get_mapping(1), mappa.get_mapping(99), mappa.get_mapping(79)"
   ]
  },
  {
   "cell_type": "code",
   "execution_count": null,
   "metadata": {},
   "outputs": [],
   "source": [
    "class Gardener_Book:\n",
    "\n",
    "    def __init__(self, map_inputs):\n",
    "        self.mappings = { key:Source_map(value) for key, value in map_inputs.items()}\n",
    "        print(self.mappings)\n",
    "\n",
    "        self.solved_seed_to_loc = {}\n",
    "        self.solved_soil_to_loc = {}\n",
    "        self.solved_fertilizer_to_loc = {}\n",
    "        self.solved_water_to_loc = {}\n",
    "        self.solved_light_to_loc = {}\n",
    "        self.solved_temperature_to_loc = {}\n",
    "\n",
    "\n",
    "    def get_location_of_seed(self, seed=79):\n",
    "\n",
    "        if seed in self.solved_seed_to_loc: return self.solved_seed_to_loc[seed]\n",
    "        soil        = self.mappings['seed-to-soil map'].get_mapping(seed)\n",
    "\n",
    "        if soil in self.solved_soil_to_loc: \n",
    "            self.solved_seed_to_loc[seed] = location\n",
    "            return self.solved_soil_to_loc[soil]\n",
    "        fertilizer  = self.mappings['soil-to-fertilizer map'].get_mapping(soil)\n",
    "\n",
    "        if fertilizer in self.solved_fertilizer_to_loc: \n",
    "            self.solved_seed_to_loc[seed] = location\n",
    "            self.solved_soil_to_loc[soil] = location\n",
    "            return self.solved_fertilizer_to_loc[fertilizer]\n",
    "        water       = self.mappings['fertilizer-to-water map'].get_mapping(fertilizer)\n",
    "\n",
    "        if water in self.solved_water_to_loc: \n",
    "            self.solved_seed_to_loc[seed] = location\n",
    "            self.solved_soil_to_loc[soil] = location\n",
    "            self.solved_fertilizer_to_loc[fertilizer] = location\n",
    "            return self.solved_water_to_loc[water]\n",
    "        light       = self.mappings['water-to-light map'].get_mapping(water)\n",
    "\n",
    "        if light in self.solved_light_to_loc: \n",
    "            self.solved_seed_to_loc[seed] = location\n",
    "            self.solved_soil_to_loc[soil] = location\n",
    "            self.solved_fertilizer_to_loc[fertilizer] = location\n",
    "            self.solved_water_to_loc[water] = location\n",
    "            return self.solved_light_to_loc[light]\n",
    "        temperature = self.mappings['light-to-temperature map'].get_mapping(light)\n",
    "\n",
    "        if temperature in self.solved_temperature_to_loc: \n",
    "            self.solved_seed_to_loc[seed] = location\n",
    "            self.solved_soil_to_loc[soil] = location\n",
    "            self.solved_fertilizer_to_loc[fertilizer] = location\n",
    "            self.solved_water_to_loc[water] = location\n",
    "            self.solved_light_to_loc[light] = location\n",
    "            return self.solved_temperature_to_loc[temperature]\n",
    "        humidity    = self.mappings['temperature-to-humidity map'].get_mapping(temperature)\n",
    "\n",
    "        location    = self.mappings['humidity-to-location map'].get_mapping(humidity)\n",
    "        self.solved_seed_to_loc[seed] = location\n",
    "        self.solved_soil_to_loc[soil] = location\n",
    "        self.solved_fertilizer_to_loc[fertilizer] = location\n",
    "        self.solved_water_to_loc[water] = location\n",
    "        self.solved_light_to_loc[light] = location\n",
    "        self.solved_temperature_to_loc[temperature] = location\n",
    "        \n",
    "        # print(f\"{soil=}\")\n",
    "        # print(f\"{fertilizer=}\")\n",
    "        # print(f\"{water=}\")\n",
    "        # print(f\"{light=}\")\n",
    "        # print(f\"{temperature=}\")\n",
    "        # print(f\"{humidity=}\")\n",
    "        # print(f\"{location=}\")\n",
    "        return location\n",
    "\n",
    "\n",
    "book  = Gardener_Book(maps)"
   ]
  },
  {
   "cell_type": "code",
   "execution_count": null,
   "metadata": {},
   "outputs": [],
   "source": [
    "assert book.mappings['seed-to-soil map'].get_mapping(79) == 81\n",
    "assert book.mappings['seed-to-soil map'].get_mapping(14) == 14\n",
    "assert book.mappings['seed-to-soil map'].get_mapping(55) == 57\n",
    "assert book.mappings['seed-to-soil map'].get_mapping(13) == 13"
   ]
  },
  {
   "cell_type": "code",
   "execution_count": null,
   "metadata": {},
   "outputs": [],
   "source": [
    "assert book.get_location_of_seed(79) == 82\n",
    "assert book.get_location_of_seed(14) == 43\n",
    "assert book.get_location_of_seed(55) == 86\n",
    "assert book.get_location_of_seed(13) == 35"
   ]
  },
  {
   "cell_type": "code",
   "execution_count": null,
   "metadata": {},
   "outputs": [],
   "source": [
    "np.min([book.get_location_of_seed(seed) for seed in seeds])"
   ]
  },
  {
   "cell_type": "code",
   "execution_count": null,
   "metadata": {},
   "outputs": [],
   "source": []
  },
  {
   "cell_type": "code",
   "execution_count": null,
   "metadata": {},
   "outputs": [],
   "source": [
    "data = open(\"..\\\\Data\\\\test_input_1.txt\").read().split(\"\\n\\n\")\n",
    "seeds, maps = get_cleanedInput(data)\n",
    "\n",
    "book  = Gardener_Book(maps)\n",
    "np.min([book.get_location_of_seed(seed) for seed in seeds])\n"
   ]
  },
  {
   "cell_type": "code",
   "execution_count": null,
   "metadata": {},
   "outputs": [],
   "source": []
  },
  {
   "cell_type": "code",
   "execution_count": null,
   "metadata": {},
   "outputs": [],
   "source": [
    "##2"
   ]
  },
  {
   "cell_type": "code",
   "execution_count": null,
   "metadata": {},
   "outputs": [],
   "source": [
    "data = open(\"..\\\\Data\\\\input_1.txt\").read().split(\"\\n\\n\")\n",
    "seeds, maps = get_cleanedInput(data)\n",
    "book  = Gardener_Book(maps)\n"
   ]
  },
  {
   "cell_type": "code",
   "execution_count": null,
   "metadata": {},
   "outputs": [],
   "source": [
    "min_loc = sys.maxsize\n",
    "for i in range(0, len(seeds), 2):\n",
    "    print(f\"i ----- { i}\")\n",
    "    for seed in range(seeds[i], seeds[i] + seeds[i+1]):\n",
    "        if i % 100.000: print(seed)\n",
    "        seed_loc = book.get_location_of_seed(seed)\n",
    "        # print(f\"{seed=} {seed_loc=}\")\n",
    "        min_loc = seed_loc if seed_loc < min_loc else min_loc\n",
    "min_loc"
   ]
  },
  {
   "cell_type": "code",
   "execution_count": null,
   "metadata": {},
   "outputs": [],
   "source": []
  },
  {
   "cell_type": "code",
   "execution_count": null,
   "metadata": {},
   "outputs": [],
   "source": []
  },
  {
   "cell_type": "code",
   "execution_count": null,
   "metadata": {},
   "outputs": [],
   "source": []
  }
 ],
 "metadata": {
  "kernelspec": {
   "display_name": "Python 3.9.7 ('base')",
   "language": "python",
   "name": "python3"
  },
  "language_info": {
   "codemirror_mode": {
    "name": "ipython",
    "version": 3
   },
   "file_extension": ".py",
   "mimetype": "text/x-python",
   "name": "python",
   "nbconvert_exporter": "python",
   "pygments_lexer": "ipython3",
   "version": "3.10.10"
  },
  "vscode": {
   "interpreter": {
    "hash": "2a8bbf263d27c073e353b5e5303e0a05dabc0622705e641ebabad97e6ca8850b"
   }
  }
 },
 "nbformat": 4,
 "nbformat_minor": 5
}
