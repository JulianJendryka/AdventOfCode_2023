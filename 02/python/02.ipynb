{
 "cells": [
  {
   "cell_type": "code",
   "execution_count": 1,
   "id": "30f4ff48",
   "metadata": {},
   "outputs": [],
   "source": [
    "import numpy as np"
   ]
  },
  {
   "cell_type": "code",
   "execution_count": 2,
   "id": "89064090",
   "metadata": {},
   "outputs": [],
   "source": [
    "# data = open(\"..\\\\Data\\\\test_input_1.txt\").read().split(\"\\n\")\n",
    "data = open(\"..\\\\Data\\\\input_1.txt\").read().split(\"\\n\")\n"
   ]
  },
  {
   "cell_type": "code",
   "execution_count": 3,
   "metadata": {},
   "outputs": [],
   "source": [
    "available_colors = {\"red\": 12, \"green\": 13, \"blue\": 14}"
   ]
  },
  {
   "cell_type": "code",
   "execution_count": null,
   "metadata": {},
   "outputs": [],
   "source": []
  },
  {
   "cell_type": "code",
   "execution_count": 4,
   "metadata": {},
   "outputs": [
    {
     "data": {
      "text/plain": [
       "True"
      ]
     },
     "execution_count": 4,
     "metadata": {},
     "output_type": "execute_result"
    }
   ],
   "source": [
    "def analyze_sub_set(sub_set=\"3 blue, 4 red\"):\n",
    "    colors = sub_set.split(\", \")\n",
    "\n",
    "    for color in colors:\n",
    "        number, color = color.split(\" \")\n",
    "        if available_colors[color] < int(number):\n",
    "            return False\n",
    "\n",
    "    return True\n",
    "\n",
    "\n",
    "analyze_sub_set()"
   ]
  },
  {
   "cell_type": "code",
   "execution_count": 5,
   "id": "dd083145",
   "metadata": {},
   "outputs": [
    {
     "data": {
      "text/plain": [
       "False"
      ]
     },
     "execution_count": 5,
     "metadata": {},
     "output_type": "execute_result"
    }
   ],
   "source": [
    "def is_game_valid(\n",
    "    line=\"Game 3: 8 green, 6 blue, 20 red; 5 blue, 4 red, 13 green; 5 green, 1 red\",\n",
    "):\n",
    "    split_right = line.split(\": \")[1]\n",
    "    split_sub_sets = split_right.split(\"; \")\n",
    "\n",
    "\n",
    "    for sub_set in split_sub_sets:\n",
    "        if not analyze_sub_set(sub_set):\n",
    "            return False\n",
    "\n",
    "    return True\n",
    "\n",
    "\n",
    "is_game_valid()"
   ]
  },
  {
   "cell_type": "code",
   "execution_count": 6,
   "id": "0536c84e",
   "metadata": {},
   "outputs": [
    {
     "data": {
      "text/plain": [
       "2810"
      ]
     },
     "execution_count": 6,
     "metadata": {},
     "output_type": "execute_result"
    }
   ],
   "source": [
    "np.sum([index + 1 for index , line in enumerate(data) if is_game_valid(line)])"
   ]
  },
  {
   "cell_type": "code",
   "execution_count": null,
   "id": "45d0ed44",
   "metadata": {},
   "outputs": [],
   "source": []
  },
  {
   "cell_type": "code",
   "execution_count": 7,
   "metadata": {},
   "outputs": [
    {
     "data": {
      "text/plain": [
       "0"
      ]
     },
     "execution_count": 7,
     "metadata": {},
     "output_type": "execute_result"
    }
   ],
   "source": [
    "def calc_game_score(available_colors= {\"red\": 1, \"green\": 3, \"blue\": 0}):\n",
    "    return available_colors[\"red\"] * available_colors[\"green\"] * available_colors[\"blue\"]\n",
    "\n",
    "calc_game_score()"
   ]
  },
  {
   "cell_type": "code",
   "execution_count": 8,
   "metadata": {},
   "outputs": [
    {
     "data": {
      "text/plain": [
       "{'red': 4, 'green': 0, 'blue': 3}"
      ]
     },
     "execution_count": 8,
     "metadata": {},
     "output_type": "execute_result"
    }
   ],
   "source": [
    "def analyze_sub_set_count(sub_set=\"3 blue, 4 red\", available_colors= {\"red\": 0, \"green\": 0, \"blue\": 0}):\n",
    "    colors = sub_set.split(\", \")\n",
    "\n",
    "    for color in colors:\n",
    "        number, color = color.split(\" \")\n",
    "        available_colors[color] = max(available_colors[color], int(number))\n",
    "\n",
    "    return available_colors\n",
    "\n",
    "\n",
    "analyze_sub_set_count()"
   ]
  },
  {
   "cell_type": "code",
   "execution_count": 9,
   "metadata": {},
   "outputs": [
    {
     "data": {
      "text/plain": [
       "1560"
      ]
     },
     "execution_count": 9,
     "metadata": {},
     "output_type": "execute_result"
    }
   ],
   "source": [
    "def extract_score(\n",
    "    line=\"Game 3: 8 green, 6 blue, 20 red; 5 blue, 4 red, 13 green; 5 green, 1 red\",\n",
    "):\n",
    "    split_right = line.split(\": \")[1]\n",
    "\n",
    "    split_sub_sets = split_right.split(\"; \")\n",
    "\n",
    "    available_colors = {\"red\": 0, \"green\": 0, \"blue\": 0}\n",
    "    for sub_set in split_sub_sets:\n",
    "        available_colors = analyze_sub_set_count(sub_set, available_colors)\n",
    "\n",
    "    return calc_game_score(available_colors)\n",
    "\n",
    "\n",
    "extract_score()"
   ]
  },
  {
   "cell_type": "code",
   "execution_count": 10,
   "metadata": {},
   "outputs": [
    {
     "data": {
      "text/plain": [
       "69110"
      ]
     },
     "execution_count": 10,
     "metadata": {},
     "output_type": "execute_result"
    }
   ],
   "source": [
    "data = open(\"..\\\\Data\\\\test_input_1.txt\").read().split(\"\\n\")\n",
    "data = open(\"..\\\\Data\\\\input_1.txt\").read().split(\"\\n\")\n",
    "np.sum([extract_score(line) for line in data])"
   ]
  },
  {
   "cell_type": "code",
   "execution_count": null,
   "metadata": {},
   "outputs": [],
   "source": []
  },
  {
   "cell_type": "code",
   "execution_count": null,
   "metadata": {},
   "outputs": [],
   "source": []
  },
  {
   "cell_type": "code",
   "execution_count": null,
   "metadata": {},
   "outputs": [],
   "source": []
  }
 ],
 "metadata": {
  "kernelspec": {
   "display_name": "Python 3.10.8 ('python_jj')",
   "language": "python",
   "name": "python3"
  },
  "language_info": {
   "codemirror_mode": {
    "name": "ipython",
    "version": 3
   },
   "file_extension": ".py",
   "mimetype": "text/x-python",
   "name": "python",
   "nbconvert_exporter": "python",
   "pygments_lexer": "ipython3",
   "version": "3.10.10"
  },
  "vscode": {
   "interpreter": {
    "hash": "1ceddff4fa3d20745fb2e82c7565e84aaa417c9dd22a2338e96a31464dda5f92"
   }
  }
 },
 "nbformat": 4,
 "nbformat_minor": 5
}
